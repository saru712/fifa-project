{
 "cells": [
  {
   "cell_type": "code",
   "execution_count": 2,
   "metadata": {},
   "outputs": [],
   "source": [
    "# import the modules\n",
    "# --------------\n",
    "import numpy as np\n",
    "import pandas as pd\n",
    "import matplotlib.pyplot as plt\n",
    "import seaborn as sns\n",
    "df = pd.read_csv(\"./train.csv\")"
   ]
  },
  {
   "cell_type": "markdown",
   "metadata": {},
   "source": [
    "### Load the dataset\n",
    "\n",
    "- Load the train data and using all your knowledge of pandas try to explore the different statistical properties of the dataset."
   ]
  },
  {
   "cell_type": "code",
   "execution_count": 3,
   "metadata": {},
   "outputs": [
    {
     "name": "stdout",
     "output_type": "stream",
     "text": [
      "Skewness for the different features is as shown below: \n",
      "Id          -0.000627\n",
      "Age          0.387514\n",
      "Overall     -0.006657\n",
      "Potential    0.204984\n",
      "Value (M)    6.597601\n",
      "Wage (M)     7.382001\n",
      "dtype: float64\n"
     ]
    }
   ],
   "source": [
    "print('Skewness for the different features is as shown below: ')\n",
    "print(df.skew())"
   ]
  },
  {
   "cell_type": "code",
   "execution_count": 4,
   "metadata": {
    "scrolled": false
   },
   "outputs": [],
   "source": [
    "# sns.heatmap(df.corr())"
   ]
  },
  {
   "cell_type": "code",
   "execution_count": 5,
   "metadata": {},
   "outputs": [
    {
     "name": "stdout",
     "output_type": "stream",
     "text": [
      "Id         Overall     -0.975595\n",
      "Overall    Id          -0.975595\n",
      "Id         Potential   -0.653503\n",
      "Potential  Id          -0.653503\n",
      "Id         Value (M)   -0.548213\n",
      "Value (M)  Id          -0.548213\n",
      "Id         Wage (M)    -0.519570\n",
      "Wage (M)   Id          -0.519570\n",
      "Potential  Wage (M)     0.512910\n",
      "Wage (M)   Potential    0.512910\n",
      "Overall    Wage (M)     0.589736\n",
      "Wage (M)   Overall      0.589736\n",
      "Potential  Value (M)    0.595095\n",
      "Value (M)  Potential    0.595095\n",
      "Overall    Value (M)    0.635618\n",
      "Value (M)  Overall      0.635618\n",
      "Overall    Potential    0.678228\n",
      "Potential  Overall      0.678228\n",
      "Wage (M)   Value (M)    0.845124\n",
      "Value (M)  Wage (M)     0.845124\n",
      "dtype: float64\n"
     ]
    }
   ],
   "source": [
    "# Selecting upper and lower threshold\n",
    "upper_threshold = 0.5\n",
    "lower_threshold = -0.5\n",
    "\n",
    "\n",
    "# List the correlation pairs\n",
    "correlation = df.corr().unstack().sort_values(kind='quicksort')\n",
    "\n",
    "# Select the highest correlation pairs having correlation greater than upper threshold and lower than lower threshold\n",
    "corr_var_list = correlation[((correlation>upper_threshold) | (correlation<lower_threshold)) & (correlation!=1)]\n",
    "print(corr_var_list)"
   ]
  },
  {
   "cell_type": "markdown",
   "metadata": {},
   "source": [
    "### Visualize the data\n",
    "\n",
    "- Check for the categorical & continuous features. \n",
    "- Check out the best plots for plotting between categorical target and continuous features and try making some inferences from these plots.\n",
    "- Check for the correlation between the features"
   ]
  },
  {
   "cell_type": "code",
   "execution_count": 6,
   "metadata": {},
   "outputs": [],
   "source": [
    "# print(df.columns)\n",
    "# df_group = df.groupby(['Position']).sum()\n",
    "# #Code starts here\n",
    "# sns.countplot(x='Position', data=df)\n",
    "\n",
    "# value_distribution_values = df.sort_values(\"Wage (M)\", ascending=False).reset_index().head(100)[[\"Name\", \"Wage (M)\"]]\n",
    "# sns.countplot(x='Wage (M)', data=value_distribution_values)\n",
    "# # value_distribution_values = df[]\n",
    "\n",
    "# overall = df.sort_values(\"Overall\")\n",
    "\n",
    "# overall_value = overall.groupby(['Overall'])['Value (M)'].mean()# \n",
    "\n",
    "# # Code ends here"
   ]
  },
  {
   "cell_type": "code",
   "execution_count": 7,
   "metadata": {},
   "outputs": [],
   "source": [
    "\n",
    "# p_list_1= ['GK', 'LB', 'CB', 'CB', 'RB', 'LM', 'CDM', 'RM', 'LW', 'ST', 'RW']\n",
    "\n",
    "# p_list_2 = ['GK', 'LWB', 'CB', 'RWB', 'LM', 'CDM', 'CAM', 'CM', 'RM', 'LW', 'RW']\n",
    "  \n",
    "# # p_list_1 stats\n",
    "# df_copy = df.copy()\n",
    "# store = []\n",
    "# for i in p_list_1:\n",
    "#     store.append([i,\n",
    "#                     df_copy.loc[[df_copy[df_copy['Position'] == i]['Overall'].idxmax()]]['Name'].to_string(\n",
    "#                         index=False), df_copy[df_copy['Position'] == i]['Overall'].max()])\n",
    "# df_copy.drop(df_copy[df_copy['Position'] == i]['Overall'].idxmax(), inplace=True)\n",
    "# # return store\n",
    "# df1= pd.DataFrame(np.array(store).reshape(11, 3), columns=['Position', 'Player', 'Overall'])\n",
    "\n",
    "\n",
    "# # p_list_2 stats\n",
    "# df_copy = df.copy()\n",
    "# store = []\n",
    "# for i in p_list_2:\n",
    "#     store.append([i,\n",
    "#                     df_copy.loc[[df_copy[df_copy['Position'] == i]['Overall'].idxmax()]]['Name'].to_string(\n",
    "#                         index=False), df_copy[df_copy['Position'] == i]['Overall'].max()])\n",
    "# df_copy.drop(df_copy[df_copy['Position'] == i]['Overall'].idxmax(), inplace=True)\n",
    "# # return store\n",
    "# df2= pd.DataFrame(np.array(store).reshape(11, 3), columns=['Position', 'Player', 'Overall'])\n",
    "\n",
    "# if df1['Overall'].mean() > df2['Overall'].mean():\n",
    "#         print(df1)\n",
    "#         print(p_list_1)\n",
    "# else:\n",
    "#     print(df2)\n",
    "#     print(p_list_2)"
   ]
  },
  {
   "cell_type": "markdown",
   "metadata": {},
   "source": [
    "### Model building\n",
    "\n",
    "- Separate the features and target and then split the train data into train and validation set.\n",
    "- Now let's come to the actual task, using linear regression, predict the `Value (M)`. \n",
    "- Try improving upon the `r2_score` (R-Square) using different parameters that give the best score. You can use higher degree [Polynomial Features of sklearn](https://scikit-learn.org/stable/modules/generated/sklearn.preprocessing.PolynomialFeatures.html) to improve the model prediction. \n",
    "\n"
   ]
  },
  {
   "cell_type": "code",
   "execution_count": 8,
   "metadata": {},
   "outputs": [
    {
     "name": "stdout",
     "output_type": "stream",
     "text": [
      "r2 0.7676309781948667\n",
      "mae 1.3718341450247453\n",
      "r2 0.9481242645946444\n",
      "mae 0.5118790302908705\n"
     ]
    }
   ],
   "source": [
    "# Code Starts here\n",
    "\n",
    "\n",
    "# --------------\n",
    "from sklearn.linear_model import LinearRegression\n",
    "from sklearn.metrics import mean_absolute_error,mean_squared_error, r2_score\n",
    "from math import sqrt\n",
    "from sklearn.model_selection import train_test_split\n",
    "\n",
    "\n",
    "# Code starts here\n",
    "X = df[['Overall','Potential','Wage (M)']]\n",
    "y = df['Value (M)']\n",
    "\n",
    "X_train, X_test, y_train, y_test = train_test_split(X, y, test_size=0.3, random_state=6)\n",
    "\n",
    "model = LinearRegression()\n",
    "model.fit(X_train, y_train)\n",
    "y_pred = model.predict(X_test)\n",
    "\n",
    "r2 = r2_score(y_test,y_pred)\n",
    "print(\"r2\", r2)\n",
    "\n",
    "mae = mean_absolute_error(y_test, y_pred)\n",
    "print(\"mae\", mae)\n",
    "\n",
    "# Code ends here\n",
    "\n",
    "\n",
    "# --------------\n",
    "from sklearn.preprocessing import PolynomialFeatures\n",
    "\n",
    "# Code starts here\n",
    "poly = PolynomialFeatures(3)\n",
    "X_train_2 = poly.fit_transform(X_train)\n",
    "X_test_2 = poly.transform(X_test)\n",
    "\n",
    "model = LinearRegression()\n",
    "model.fit(X_train_2, y_train)\n",
    "\n",
    "y_pred_2 = model.predict(X_test_2)\n",
    "\n",
    "r2 = r2_score(y_test,y_pred_2)\n",
    "print(\"r2\", r2)\n",
    "\n",
    "mae = mean_absolute_error(y_test, y_pred_2)\n",
    "print(\"mae\", mae)\n",
    "# Code ends here\n",
    "\n",
    "\n",
    "\n",
    "\n",
    "# Code ends here"
   ]
  },
  {
   "cell_type": "markdown",
   "metadata": {},
   "source": [
    "### Prediction on the test data and creating the sample submission file.\n",
    "\n",
    "- Load the test data and store the `Id` column in a separate variable.\n",
    "- Perform the same operations on the test data that you have performed on the train data.\n",
    "- Create the submission file as a `csv` file consisting of the `Id` column from the test data and your prediction as the second column."
   ]
  },
  {
   "cell_type": "code",
   "execution_count": 11,
   "metadata": {},
   "outputs": [],
   "source": [
    "test3=pd.read_csv(\"./test.csv\")"
   ]
  },
  {
   "cell_type": "code",
   "execution_count": 12,
   "metadata": {},
   "outputs": [
    {
     "name": "stdout",
     "output_type": "stream",
     "text": [
      "0         280\n",
      "1         569\n",
      "2        8731\n",
      "3       10085\n",
      "4        9831\n",
      "        ...  \n",
      "3592     5584\n",
      "3593     4629\n",
      "3594     6123\n",
      "3595      664\n",
      "3596     4238\n",
      "Name: Id, Length: 3597, dtype: int64\n"
     ]
    }
   ],
   "source": [
    "# Code Starts here\n",
    "Id =test3['Id']\n",
    "print(Id)\n",
    "\n",
    "# Code ends here"
   ]
  },
  {
   "cell_type": "code",
   "execution_count": 13,
   "metadata": {},
   "outputs": [],
   "source": [
    "test3=test3[['Overall','Potential','Wage (M)']]"
   ]
  },
  {
   "cell_type": "code",
   "execution_count": 14,
   "metadata": {
    "scrolled": true
   },
   "outputs": [
    {
     "data": {
      "text/html": [
       "<div>\n",
       "<style scoped>\n",
       "    .dataframe tbody tr th:only-of-type {\n",
       "        vertical-align: middle;\n",
       "    }\n",
       "\n",
       "    .dataframe tbody tr th {\n",
       "        vertical-align: top;\n",
       "    }\n",
       "\n",
       "    .dataframe thead th {\n",
       "        text-align: right;\n",
       "    }\n",
       "</style>\n",
       "<table border=\"1\" class=\"dataframe\">\n",
       "  <thead>\n",
       "    <tr style=\"text-align: right;\">\n",
       "      <th></th>\n",
       "      <th>Overall</th>\n",
       "      <th>Potential</th>\n",
       "      <th>Wage (M)</th>\n",
       "    </tr>\n",
       "  </thead>\n",
       "  <tbody>\n",
       "    <tr>\n",
       "      <th>0</th>\n",
       "      <td>82</td>\n",
       "      <td>82</td>\n",
       "      <td>0.046</td>\n",
       "    </tr>\n",
       "    <tr>\n",
       "      <th>1</th>\n",
       "      <td>79</td>\n",
       "      <td>85</td>\n",
       "      <td>0.105</td>\n",
       "    </tr>\n",
       "    <tr>\n",
       "      <th>2</th>\n",
       "      <td>67</td>\n",
       "      <td>74</td>\n",
       "      <td>0.007</td>\n",
       "    </tr>\n",
       "    <tr>\n",
       "      <th>3</th>\n",
       "      <td>65</td>\n",
       "      <td>65</td>\n",
       "      <td>0.002</td>\n",
       "    </tr>\n",
       "    <tr>\n",
       "      <th>4</th>\n",
       "      <td>66</td>\n",
       "      <td>67</td>\n",
       "      <td>0.001</td>\n",
       "    </tr>\n",
       "  </tbody>\n",
       "</table>\n",
       "</div>"
      ],
      "text/plain": [
       "   Overall  Potential  Wage (M)\n",
       "0       82         82     0.046\n",
       "1       79         85     0.105\n",
       "2       67         74     0.007\n",
       "3       65         65     0.002\n",
       "4       66         67     0.001"
      ]
     },
     "execution_count": 14,
     "metadata": {},
     "output_type": "execute_result"
    }
   ],
   "source": [
    "test3.head()"
   ]
  },
  {
   "cell_type": "code",
   "execution_count": 15,
   "metadata": {},
   "outputs": [],
   "source": [
    "test_3 = poly.transform(test3)"
   ]
  },
  {
   "cell_type": "code",
   "execution_count": 16,
   "metadata": {},
   "outputs": [],
   "source": [
    "pred = model.predict(test_3)"
   ]
  },
  {
   "cell_type": "code",
   "execution_count": 17,
   "metadata": {},
   "outputs": [],
   "source": [
    "submission_file1 = pd.DataFrame({'Id' : Id, 'Value' : pred})\n",
    "submission_file1.to_csv('submission3.csv', index = False)"
   ]
  },
  {
   "cell_type": "code",
   "execution_count": null,
   "metadata": {},
   "outputs": [],
   "source": []
  }
 ],
 "metadata": {
  "kernelspec": {
   "display_name": "Python 3",
   "language": "python",
   "name": "python3"
  },
  "language_info": {
   "codemirror_mode": {
    "name": "ipython",
    "version": 3
   },
   "file_extension": ".py",
   "mimetype": "text/x-python",
   "name": "python",
   "nbconvert_exporter": "python",
   "pygments_lexer": "ipython3",
   "version": "3.7.6"
  }
 },
 "nbformat": 4,
 "nbformat_minor": 2
}
